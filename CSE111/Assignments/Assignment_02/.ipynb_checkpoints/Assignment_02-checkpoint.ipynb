{
 "cells": [
  {
   "cell_type": "code",
   "execution_count": 7,
   "metadata": {},
   "outputs": [
    {
     "name": "stdout",
     "output_type": "stream",
     "text": [
      "Please enter first number: 4\n",
      "Plese enter second number: 4\n",
      "0\n"
     ]
    }
   ],
   "source": [
    "#Easy Task_01\n",
    "#Author Aditi Saha Ria \n",
    "#ID_No : 20101238\n",
    "def division(a,b):\n",
    "    if a==0 or b==0 or a==b:\n",
    "        return 0\n",
    "    else:\n",
    "        return (a/b) - (a//b)\n",
    "first_number = int(input('Please enter first number: '))\n",
    "second_number = int(input('Plese enter second number: '))\n",
    "print(division(first_number, second_number))"
   ]
  },
  {
   "cell_type": "code",
   "execution_count": 20,
   "metadata": {},
   "outputs": [
    {
     "name": "stdout",
     "output_type": "stream",
     "text": [
      "Please enter your height: 182.88\n",
      "Please enter your weight: 84\n",
      "Score is 25.1. You are Overweight\n"
     ]
    }
   ],
   "source": [
    "#Easy Task_02\n",
    "#Author Aditi Saha Ria \n",
    "#ID_No : 20101238\n",
    "def BMI(height, weight):\n",
    "    score = round((weight/((height*0.01)**2)),1)\n",
    "    print(f\"Score is {score}\", end = \"\")\n",
    "    if weight/(height*0.01)**2 > 30:\n",
    "        return \". You are Obese\"\n",
    "    elif weight/(height*0.01)**2 >= 25:\n",
    "        return \". You are Overweight\"\n",
    "    elif weight/(height*0.01)**2 >= 18.5:\n",
    "        return \". You are Normal\"\n",
    "    else:\n",
    "        return \". You are Underweight\"\n",
    "x = float(input('Please enter your height: '))\n",
    "y = float(input('Please enter your weight: '))\n",
    "result = BMI(x, y)\n",
    "print(result)"
   ]
  },
  {
   "cell_type": "code",
   "execution_count": 9,
   "metadata": {},
   "outputs": [
    {
     "name": "stdout",
     "output_type": "stream",
     "text": [
      "Please enter minimum number: 3\n",
      "Please enter maximum number: 16\n",
      "Please enter the divisor: 3\n",
      "45\n"
     ]
    }
   ],
   "source": [
    "#Easy Task_03\n",
    "#Author Aditi Saha Ria \n",
    "#ID_No : 20101238\n",
    "def divisors(min, max, div):\n",
    "    sum = 0\n",
    "    for i in range(min,max,1):\n",
    "        if not i%div:\n",
    "            sum = sum + i\n",
    "    return sum\n",
    "x = int(input('Please enter minimum number: '))\n",
    "y = int(input('Please enter maximum number: '))\n",
    "z = int(input('Please enter the divisor: '))\n",
    "print(divisors(x,y,z))"
   ]
  },
  {
   "cell_type": "code",
   "execution_count": 27,
   "metadata": {},
   "outputs": [
    {
     "name": "stdout",
     "output_type": "stream",
     "text": [
      "Please enter item name: beef BURGER\n",
      "Please enter your location: mohakhali\n",
      "223.6\n"
     ]
    }
   ],
   "source": [
    "#Medium Task_01\n",
    "#Author Aditi Saha Ria \n",
    "#ID_No : 20101238\n",
    "\n",
    "#function_code\n",
    "def food_panda_bill(item, location='mohakhali'):\n",
    "    if location == 'mohakhali' or location == '':\n",
    "        if item == 'bbq chicken cheese burger':\n",
    "            bill = 250 + 40 + (250*0.08)\n",
    "        elif item == 'beef burger':\n",
    "            bill = 170 + 40 + (170*0.08)\n",
    "        elif item == 'naga drums':\n",
    "            bill = 200 + 40 + (200*0.08)\n",
    "    else:\n",
    "        if item == 'bbq chicken cheese burger':\n",
    "            bill = 250 + 60 + (250*0.08)\n",
    "        elif item == 'beef burger':\n",
    "            bill = 170 + 60 + (170*0.08)\n",
    "        elif item == 'naga drums':\n",
    "            bill = 200 + 60 + (200*0.08)\n",
    "    return bill\n",
    "\n",
    "#main_code\n",
    "x = input('Please enter item name: ')\n",
    "#updated_x = x.lower()\n",
    "y = input('Please enter your location: ')\n",
    "print(food_panda_bill(x.lower(),y.lower()))"
   ]
  },
  {
   "cell_type": "code",
   "execution_count": 4,
   "metadata": {},
   "outputs": [
    {
     "name": "stdout",
     "output_type": "stream",
     "text": [
      "Please enter your email address: x@y\n",
      "Please enter your new domain: sheba.xyz\n",
      "Please enter your old domain: \n",
      "Unchanged: x@y\n"
     ]
    }
   ],
   "source": [
    "#Medium Task_02\n",
    "#Author Aditi Saha Ria \n",
    "#ID_No : 20101238\n",
    "\n",
    "#function_code\n",
    "def domain(email, new_domain, old_domain = 'sheba.xyz'):\n",
    "    if old_domain == 'sheba.xyz' or old_domain == '':\n",
    "        print(f'Unchanged: {email}')\n",
    "    else:\n",
    "        list = email.split('@')\n",
    "        updated_email = list[0] + '@' + new_domain\n",
    "        print(f'Changed: {updated_email}')\n",
    "\n",
    "x = input('Please enter your email address: ')\n",
    "y = input('Please enter your new domain: ')\n",
    "z = input('Please enter your old domain: ')\n",
    "domain(x, y, z)"
   ]
  },
  {
   "cell_type": "code",
   "execution_count": 2,
   "metadata": {},
   "outputs": [
    {
     "name": "stdout",
     "output_type": "stream",
     "text": [
      "Please enter your name: Aditi\n",
      "Vowels: a, i, i. Total number of vowels: 3\n"
     ]
    }
   ],
   "source": [
    "#Medium Task_03\n",
    "#Author Aditi Saha Ria \n",
    "#ID_No : 20101238\n",
    "\n",
    "#function_code\n",
    "def vowels(name):\n",
    "    updated_name = name.lower()\n",
    "    vowel_list = ['a', 'e', 'i', 'o', 'u']\n",
    "    count = 0\n",
    "    name_list = []\n",
    "    for i in updated_name:\n",
    "        if i in vowel_list:\n",
    "            count += 1\n",
    "            name_list.append(i)\n",
    "    if count == 0:\n",
    "        return 'No vowels in the name'\n",
    "    else:\n",
    "        print('Vowels: ',end='')\n",
    "        for i in range(len(name_list)):\n",
    "            if i == len(name_list)-1:\n",
    "                print(name_list[i], end='. ')\n",
    "            else:\n",
    "                print(name_list[i], end=', ')\n",
    "        print(f'Total number of vowels: {count}')\n",
    "\n",
    "\n",
    "x = input('Please enter your name: ')\n",
    "vowels(x)"
   ]
  },
  {
   "cell_type": "code",
   "execution_count": 1,
   "metadata": {},
   "outputs": [
    {
     "name": "stdout",
     "output_type": "stream",
     "text": [
      "Please enter a string: Aditi\n",
      "Not a palindrome\n"
     ]
    }
   ],
   "source": [
    "#Medium Task_04\n",
    "#Author Aditi Saha Ria \n",
    "#ID_No : 20101238\n",
    "\n",
    "#function_code\n",
    "def palindrome(word):\n",
    "    list = word.split(' ')\n",
    "    str_01 = ''\n",
    "    for i in list:\n",
    "        str_01 = str_01 + i\n",
    "    given_word = str_01.lower()\n",
    "    str_02 = ''\n",
    "    for i in given_word[::-1]:\n",
    "        str_02 = str_02 + i\n",
    "    reverse_word = str_02.lower()\n",
    "    if reverse_word == given_word:\n",
    "        return 'Palindrome'\n",
    "    else:\n",
    "        return 'Not a palindrome'\n",
    "\n",
    "x = input('Please enter a string: ')\n",
    "print(palindrome (x))"
   ]
  },
  {
   "cell_type": "code",
   "execution_count": 1,
   "metadata": {},
   "outputs": [
    {
     "name": "stdout",
     "output_type": "stream",
     "text": [
      "('Alice', 20000, '2017-03-21', Bob, 50000, '2007-05-10')\n"
     ]
    },
    {
     "ename": "ValueError",
     "evalue": "invalid literal for int() with base 10: \"'\"",
     "output_type": "error",
     "traceback": [
      "\u001b[1;31m---------------------------------------------------------------------------\u001b[0m",
      "\u001b[1;31mValueError\u001b[0m                                Traceback (most recent call last)",
      "\u001b[1;32m<ipython-input-1-b07b3fca33ef>\u001b[0m in \u001b[0;36m<module>\u001b[1;34m\u001b[0m\n\u001b[0;32m     30\u001b[0m \u001b[1;33m\u001b[0m\u001b[0m\n\u001b[0;32m     31\u001b[0m \u001b[0mx\u001b[0m \u001b[1;33m=\u001b[0m \u001b[0minput\u001b[0m\u001b[1;33m(\u001b[0m\u001b[1;33m)\u001b[0m\u001b[1;33m\u001b[0m\u001b[1;33m\u001b[0m\u001b[0m\n\u001b[1;32m---> 32\u001b[1;33m \u001b[0mbonus_salary\u001b[0m\u001b[1;33m(\u001b[0m\u001b[1;33m*\u001b[0m\u001b[0mx\u001b[0m\u001b[1;33m)\u001b[0m\u001b[1;33m\u001b[0m\u001b[1;33m\u001b[0m\u001b[0m\n\u001b[0m",
      "\u001b[1;32m<ipython-input-1-b07b3fca33ef>\u001b[0m in \u001b[0;36mbonus_salary\u001b[1;34m(*args)\u001b[0m\n\u001b[0;32m     13\u001b[0m         \u001b[0mbonus\u001b[0m \u001b[1;33m=\u001b[0m \u001b[1;36m0\u001b[0m\u001b[1;33m\u001b[0m\u001b[1;33m\u001b[0m\u001b[0m\n\u001b[0;32m     14\u001b[0m         \u001b[0msalary\u001b[0m \u001b[1;33m=\u001b[0m \u001b[0margs\u001b[0m\u001b[1;33m[\u001b[0m\u001b[0mi\u001b[0m\u001b[1;33m+\u001b[0m\u001b[1;36m1\u001b[0m\u001b[1;33m]\u001b[0m\u001b[1;33m\u001b[0m\u001b[1;33m\u001b[0m\u001b[0m\n\u001b[1;32m---> 15\u001b[1;33m         \u001b[0msalary\u001b[0m \u001b[1;33m=\u001b[0m \u001b[0mint\u001b[0m\u001b[1;33m(\u001b[0m\u001b[0msalary\u001b[0m\u001b[1;33m)\u001b[0m\u001b[1;33m\u001b[0m\u001b[1;33m\u001b[0m\u001b[0m\n\u001b[0m\u001b[0;32m     16\u001b[0m         \u001b[0mlist\u001b[0m\u001b[1;33m=\u001b[0m\u001b[0margs\u001b[0m\u001b[1;33m[\u001b[0m\u001b[0mi\u001b[0m\u001b[1;33m+\u001b[0m\u001b[1;36m2\u001b[0m\u001b[1;33m]\u001b[0m\u001b[1;33m.\u001b[0m\u001b[0msplit\u001b[0m\u001b[1;33m(\u001b[0m\u001b[1;34m'-'\u001b[0m\u001b[1;33m)\u001b[0m\u001b[1;33m\u001b[0m\u001b[1;33m\u001b[0m\u001b[0m\n\u001b[0;32m     17\u001b[0m         \u001b[0mjoining_day\u001b[0m \u001b[1;33m=\u001b[0m \u001b[0mlist\u001b[0m\u001b[1;33m[\u001b[0m\u001b[1;36m0\u001b[0m\u001b[1;33m]\u001b[0m\u001b[1;33m\u001b[0m\u001b[1;33m\u001b[0m\u001b[0m\n",
      "\u001b[1;31mValueError\u001b[0m: invalid literal for int() with base 10: \"'\""
     ]
    }
   ],
   "source": [
    "#Hard Task_01\n",
    "#Author Aditi Saha Ria\n",
    "#ID : 20101238\n",
    "def bonus_salary(*args):\n",
    "    count = 0\n",
    "    for i in args:\n",
    "        count += 1\n",
    "    \n",
    "    i = 0\n",
    "    while i < len(args)-2:\n",
    "        salary = 0\n",
    "        joining_day = 0\n",
    "        bonus = 0\n",
    "        salary = args[i+1]\n",
    "        salary = int(salary)\n",
    "        list=args[i+2].split('-')\n",
    "        joining_day = list[0]\n",
    "        joining_day = 2020 - int(joining_day)\n",
    "        if joining_day < 5:\n",
    "            bonus = salary * 0.1\n",
    "        elif joining_day < 11:\n",
    "            bonus = (salary * 0.1) + 5000\n",
    "        else:\n",
    "            bonus = (salary * 0.15) + 15000\n",
    "        if i+3 == count:\n",
    "            print(f'{arg[i]}: {bonus}')\n",
    "        else:\n",
    "            print(f'{arg[i]}: {bonus}', end=', ')\n",
    "        i += 3\n",
    "\n",
    "x = input()\n",
    "bonus_salary(*x)"
   ]
  },
  {
   "cell_type": "code",
   "execution_count": null,
   "metadata": {},
   "outputs": [],
   "source": [
    "#Hard Task_02\n",
    "#Author Aditi Saha Ria\n",
    "#ID : 20101238\n",
    "def year_month_day(number):\n",
    "    year = number//365\n",
    "    number = number%365\n",
    "    month = number//30\n",
    "    day = number%30\n",
    "    print(f'{year} years, {month} months and {day} days')\n",
    "x = int(input('Please enter a number: '))\n",
    "year_month_day(x)"
   ]
  },
  {
   "cell_type": "code",
   "execution_count": 12,
   "metadata": {},
   "outputs": [
    {
     "name": "stdout",
     "output_type": "stream",
     "text": [
      "my favourite animal is a dog. a dog has sharp teeth so that it can eat flesh very easily. do you know my pet dog’s name? i love my pet very much\n",
      "My favourite animal is a dog. A dog has sharp teeth so that it can eat flesh very easily. Do you know my pet dog’s name? I love my pet very much\n"
     ]
    }
   ],
   "source": [
    "#Hard Task_03\n",
    "#Author Aditi Saha Ria\n",
    "#ID : 20101238\n",
    "#import re\n",
    "def string(paragraph):\n",
    "    paragraph = paragraph.capitalize()\n",
    "    \n",
    "    for i in range(len(paragraph)-1):\n",
    "        if paragraph[i-1]+paragraph[i]+paragraph[i+1]==' i ':\n",
    "            paragraph = paragraph[:i]+paragraph[i].upper()+paragraph[i+1:]\n",
    "        elif paragraph[i-1]+paragraph[i]+paragraph[i+1]==' i.':\n",
    "            paragraph = paragraph[:i]+paragraph[i].upper()+paragraph[i+1:]\n",
    "        elif paragraph[i-1]+paragraph[i]+paragraph[i+1]==' i?':\n",
    "            paragraph = paragraph[:i]+paragraph[i].upper()+paragraph[i+1:]\n",
    "        elif paragraph[i-1]+paragraph[i]+paragraph[i+1]==' i!':\n",
    "            paragraph = paragraph[:i]+paragraph[i].upper()+paragraph[i+1:]\n",
    "        for i in range(len(paragraph )-2):\n",
    "            if paragraph[i-1]+paragraph[i]=='. ':\n",
    "                paragraph = paragraph[:i+1]+paragraph[i+1].upper()+paragraph[i+2:]\n",
    "            elif paragraph[i-1]+paragraph[i]=='? ':\n",
    "                paragraph = paragraph[:i+1]+paragraph[i+1].upper()+paragraph[i+2:]\n",
    "            elif paragraph[i-1]+paragraph[i]=='! ':\n",
    "                paragraph = paragraph[:i+1]+paragraph[i+1].upper()+paragraph[i+2:]\n",
    "            \n",
    "    return paragraph\n",
    "x = input()\n",
    "print(string(x))"
   ]
  },
  {
   "cell_type": "code",
   "execution_count": 13,
   "metadata": {},
   "outputs": [
    {
     "name": "stdout",
     "output_type": "stream",
     "text": [
      "my favourite animal is a dog. a dog has sharp teeth so that it can eat flesh very easily. do you know my pet dog’s name? i love my pet very much\n",
      "My favourite animal is a dog. A dog has sharp teeth so that it can eat flesh very easily. Do you know my pet dog’s name? I love my pet very much\n"
     ]
    }
   ],
   "source": [
    "#Hard Task_03\n",
    "#Author Aditi Saha Ria\n",
    "#ID : 20101238\n",
    "import re\n",
    "def string(paragraph):\n",
    "    paragraph = paragraph.capitalize() \n",
    "    new_paragraph = re.compile('([.!?]\\s*)')\n",
    "    paragraph_list = new_paragraph.split(paragraph)\n",
    "    updated_paragraph = ''.join([i.capitalize() for i in paragraph_list])\n",
    "    \n",
    "    for i in range(len(updated_paragraph)-1):\n",
    "        if updated_paragraph[i-1]+updated_paragraph[i]+updated_paragraph[i+1]==' i ':\n",
    "            updated_paragraph = updated_paragraph[:i]+updated_paragraph[i].upper()+updated_paragraph[i+1:]\n",
    "        elif updated_paragraph[i-1]+updated_paragraph[i]+updated_paragraph[i+1]==' i.':\n",
    "            updated_paragraph = updated_paragraph[:i]+updated_paragraph[i].upper()+updated_paragraph[i+1:]\n",
    "        elif updated_paragraph[i-1]+updated_paragraph[i]+updated_paragraph[i+1]==' i?':\n",
    "            updated_paragraph = updated_paragraph[:i]+updated_paragraph[i].upper()+updated_paragraph[i+1:]\n",
    "        elif updated_paragraph[i-1]+updated_paragraph[i]+updated_paragraph[i+1]==' i!':\n",
    "            updated_paragraph = updated_paragraph[:i]+updated_paragraph[i].upper()+updated_paragraph[i+1:]\n",
    "            \n",
    "    return updated_paragraph\n",
    "x = input()\n",
    "print(string(x))"
   ]
  }
 ],
 "metadata": {
  "kernelspec": {
   "display_name": "Python 3",
   "language": "python",
   "name": "python3"
  },
  "language_info": {
   "codemirror_mode": {
    "name": "ipython",
    "version": 3
   },
   "file_extension": ".py",
   "mimetype": "text/x-python",
   "name": "python",
   "nbconvert_exporter": "python",
   "pygments_lexer": "ipython3",
   "version": "3.7.6"
  }
 },
 "nbformat": 4,
 "nbformat_minor": 4
}
