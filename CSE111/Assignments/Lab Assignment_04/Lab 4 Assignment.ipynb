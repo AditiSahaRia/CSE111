{
 "cells": [
  {
   "cell_type": "code",
   "execution_count": 2,
   "metadata": {},
   "outputs": [
    {
     "name": "stdout",
     "output_type": "stream",
     "text": [
      "Integer\n",
      "1234\n",
      "=====================\n",
      "String\n",
      "Hello\n",
      "=====================\n",
      "Float\n",
      "4.0\n"
     ]
    }
   ],
   "source": [
    "#Question 01\n",
    "#Author Aditi Saha Ria\n",
    "#ID : 20101238\n",
    "\n",
    "class DataType:\n",
    "    def __init__(self, x , val):\n",
    "        self.name = x\n",
    "        self.value = val\n",
    "\n",
    "\n",
    "data_type1 = DataType('Integer', 1234)\n",
    "print(data_type1.name)\n",
    "print(data_type1.value)\n",
    "print('=====================')\n",
    "data_type2 = DataType('String', 'Hello')\n",
    "print(data_type2.name)\n",
    "print(data_type2.value)\n",
    "print('=====================')\n",
    "data_type3 = DataType('Float', 4.0)\n",
    "print(data_type3.name)\n",
    "print(data_type3.value)"
   ]
  },
  {
   "cell_type": "code",
   "execution_count": 3,
   "metadata": {},
   "outputs": [
    {
     "name": "stdout",
     "output_type": "stream",
     "text": [
      "Name of this flower: Rose\n",
      "Color of this flower: Red\n",
      "Number of petal: 6\n",
      "=====================\n",
      "Name of this flower: Orchid\n",
      "Color of this flower: Purple\n",
      "Number of petal: 4\n",
      "<__main__.Flower object at 0x0000019DD0B44370>\n",
      "<__main__.Flower object at 0x0000019DD0B68B80>\n",
      "They are different\n"
     ]
    }
   ],
   "source": [
    "#Question 02\n",
    "#Author Aditi Saha Ria\n",
    "#ID : 20101238\n",
    "\n",
    "class Flower:\n",
    "    def __init__(self):\n",
    "        pass\n",
    "\n",
    "flower1 = Flower()\n",
    "flower1.name = \"Rose\"\n",
    "flower1.color=\"Red\"\n",
    "flower1.num_of_petal=6\n",
    "print(\"Name of this flower:\", flower1.name)\n",
    "print(\"Color of this flower:\",flower1.color)\n",
    "print(\"Number of petal:\",flower1.num_of_petal)\n",
    "print('=====================')\n",
    "flower2 = Flower()\n",
    "flower2.name=\"Orchid\"\n",
    "flower2.color=\"Purple\"\n",
    "flower2.num_of_petal=4\n",
    "print(\"Name of this flower:\",flower2.name)\n",
    "print(\"Color of this flower:\",flower2.color)\n",
    "print (\"Number of petal:\",flower2. num_of_petal)\n",
    "print(flower1)\n",
    "print(flower2)\n",
    "print('They are different')"
   ]
  },
  {
   "cell_type": "code",
   "execution_count": 4,
   "metadata": {
    "scrolled": true
   },
   "outputs": [
    {
     "name": "stdout",
     "output_type": "stream",
     "text": [
      "Part 1:\n",
      "Name of President: Aladeen\n",
      "Designation: President Prime Minister Admiral General\n",
      "Number of wife: 100\n",
      "Is he/she a dictator: True\n",
      "Part 2:\n",
      "Name of President: Donald Trump\n",
      "Designation: President\n",
      "Number of wife: 1\n",
      "Is he/she a dictator: False\n",
      "previous information lost\n"
     ]
    }
   ],
   "source": [
    "#Question 03\n",
    "#Author Aditi Saha Ria\n",
    "#ID : 20101238\n",
    "\n",
    "class Wadiya():\n",
    "    def __init__(self):\n",
    "        self.name = 'Aladeen'\n",
    "        self.designation = 'President Prime Minister Admiral General'\n",
    "        self.num_of_wife = 100\n",
    "        self.dictator = True\n",
    "\n",
    "\n",
    "wadiya = Wadiya()\n",
    "print('Part 1:')\n",
    "print(f'Name of President: {wadiya.name}')\n",
    "print(f'Designation: {wadiya.designation}')\n",
    "print(f'Number of wife: {wadiya.num_of_wife}')\n",
    "print(f'Is he/she a dictator: {wadiya.dictator}')\n",
    "wadiya.name = 'Donald Trump'\n",
    "wadiya.designation = 'President'\n",
    "wadiya.num_of_wife = 1\n",
    "wadiya.dictator = False\n",
    "print('Part 2:')\n",
    "print(f'Name of President: {wadiya.name}')\n",
    "print(f'Designation: {wadiya.designation}')\n",
    "print(f'Number of wife: {wadiya.num_of_wife}')\n",
    "print(f'Is he/she a dictator: {wadiya.dictator}')\n",
    "print('previous information lost')"
   ]
  },
  {
   "cell_type": "code",
   "execution_count": 5,
   "metadata": {},
   "outputs": [
    {
     "name": "stdout",
     "output_type": "stream",
     "text": [
      "Heath Ledger\n",
      "Mind Game\n",
      "False\n",
      " == == == == == == == == == == =\n",
      "Joaquin Phoenix\n",
      "Laughing out Loud\n",
      "True\n",
      " == == == == == == == == == == =\n",
      "different\n",
      "same\n",
      "The first if else block checks weather j1 and j2 both objects refers to the same memory location or not. We know that different objects reserves different memory location. That's why the first if else block prints \"different\"\n",
      "The second if else block checks weather the name of both j1 and j2 object is same or not. AS the names are same that's why the output shows \"same\"\n"
     ]
    }
   ],
   "source": [
    "#Question 04\n",
    "#Author Aditi Saha Ria\n",
    "#ID : 20101238\n",
    "\n",
    "class Joker:\n",
    "    def __init__(self, x, y, z):\n",
    "        self.name = x\n",
    "        self.power = y\n",
    "        self.is_he_psycho = z\n",
    "\n",
    "j1 = Joker('Heath Ledger', 'Mind Game', False)\n",
    "print(j1.name)\n",
    "print(j1.power)\n",
    "print(j1.is_he_psycho)\n",
    "print(' == == == == == == == == == == =')\n",
    "j2 = Joker('Joaquin Phoenix', 'Laughing out Loud', True)\n",
    "print(j2.name)\n",
    "print(j2.power)\n",
    "print(j2.is_he_psycho)\n",
    "print(' == == == == == == == == == == =')\n",
    "if j1 == j2:\n",
    "    print('same')\n",
    "else:\n",
    "    print('different')\n",
    "j2.name = 'Heath Ledger'\n",
    "if j1.name == j2.name:\n",
    "    print('same')\n",
    "else:\n",
    "    print('different')\n",
    "\n",
    "print('''The first if else block checks weather j1 and j2 both objects refers to the same memory location or not. We know that different objects reserves different memory location. That's why the first if else block prints \"different\"''')\n",
    "print('''The second if else block checks weather the name of both j1 and j2 object is same or not. AS the names are same that's why the output shows \"same\"''')"
   ]
  },
  {
   "cell_type": "code",
   "execution_count": 6,
   "metadata": {},
   "outputs": [
    {
     "name": "stdout",
     "output_type": "stream",
     "text": [
      "=======Team 1=======\n",
      "Pokemon 1: pikachu 90\n",
      "Pokemon 2: charmander 60\n",
      "Combined Power: 1500\n",
      "=======Team 2=======\n",
      "Pokemon 1: bulbasaur 80\n",
      "Pokemon 2: squirtle 70\n",
      "Combined Power: 1350\n"
     ]
    }
   ],
   "source": [
    "#Question 05\n",
    "#Author Aditi Saha Ria\n",
    "#ID : 20101238\n",
    "\n",
    "class Pokemon:\n",
    "    def __init__(self, a,b,c,d,e):\n",
    "        self.pokemon1_name = a\n",
    "        self.pokemon2_name = b\n",
    "        self.pokemon1_power = c\n",
    "        self.pokemon2_power = d\n",
    "        self.damage_rate = e\n",
    "\n",
    "team_pika = Pokemon('pikachu', 'charmander', 90, 60, 10)\n",
    "print('=======Team 1=======')\n",
    "print('Pokemon 1:',team_pika.pokemon1_name,team_pika.pokemon1_power)\n",
    "print('Pokemon 2:',team_pika.pokemon2_name,team_pika.pokemon2_power)\n",
    "pika_combined_power = (team_pika.pokemon1_power + team_pika.pokemon2_power) * team_pika.damage_rate\n",
    "print('Combined Power:', pika_combined_power)\n",
    "team_bulb = Pokemon('bulbasaur', 'squirtle', 80, 70,9)\n",
    "print('=======Team 2=======')\n",
    "print('Pokemon 1:',team_bulb.pokemon1_name,team_bulb.pokemon1_power)\n",
    "print('Pokemon 2:',team_bulb.pokemon2_name,team_bulb.pokemon2_power)\n",
    "pika_combined_power = (team_bulb.pokemon1_power + team_bulb.pokemon2_power) * team_bulb.damage_rate\n",
    "print('Combined Power:', pika_combined_power)"
   ]
  }
 ],
 "metadata": {
  "kernelspec": {
   "display_name": "Python 3",
   "language": "python",
   "name": "python3"
  },
  "language_info": {
   "codemirror_mode": {
    "name": "ipython",
    "version": 3
   },
   "file_extension": ".py",
   "mimetype": "text/x-python",
   "name": "python",
   "nbconvert_exporter": "python",
   "pygments_lexer": "ipython3",
   "version": "3.8.3"
  }
 },
 "nbformat": 4,
 "nbformat_minor": 4
}
