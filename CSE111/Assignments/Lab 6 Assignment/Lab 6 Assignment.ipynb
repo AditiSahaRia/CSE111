{
 "cells": [
  {
   "cell_type": "code",
   "execution_count": 1,
   "metadata": {},
   "outputs": [
    {
     "name": "stdout",
     "output_type": "stream",
     "text": [
      "Let’s Calculate!\n",
      "1\n",
      "/\n",
      "2\n",
      "Value 1: 1\n",
      "Operator: /\n",
      "Value 2: 2\n",
      "Result: 0.5\n"
     ]
    }
   ],
   "source": [
    "#Question 1\n",
    "#Author Aditi Saha Ria\n",
    "#ID NO : 20101238\n",
    "\n",
    "class Calculator:\n",
    "    def __init__(self):\n",
    "        print(\"Let’s Calculate!\")\n",
    "\n",
    "    def add(self, a, b):\n",
    "        sum = a+b\n",
    "        print(f'Value 1: {a}')\n",
    "        print(f'Operator: +')\n",
    "        print(f'Value 2: {b}')\n",
    "        print(f'Result: {sum}')\n",
    "    def subtract(self, a, b):\n",
    "        sub = a-b\n",
    "        print(f'Value 1: {a}')\n",
    "        print(f'Operator: -')\n",
    "        print(f'Value 2: {b}')\n",
    "        print(f'Result: {sub}')\n",
    "    def multiply(self, a, b):\n",
    "        mul = a*b\n",
    "        print(f'Value 1: {a}')\n",
    "        print(f'Operator: *')\n",
    "        print(f'Value 2: {b}')\n",
    "        print(f'Result: {mul}')\n",
    "    def divide(self, a, b):\n",
    "        div = a/b\n",
    "        print(f'Value 1: {a}')\n",
    "        print(f'Operator: /')\n",
    "        print(f'Value 2: {b}')\n",
    "        print(f'Result: {div}')\n",
    "\n",
    "obj1 = Calculator()\n",
    "first_value = int(input())\n",
    "operator = input()\n",
    "second_value = int(input())\n",
    "if operator=='+':\n",
    "    obj1.add(first_value, second_value)\n",
    "elif operator == '-':\n",
    "    obj1.subtract(first_value, second_value)\n",
    "elif operator == '*':\n",
    "    obj1.multiply(first_value, second_value)\n",
    "else:\n",
    "    obj1.divide(first_value, second_value)"
   ]
  },
  {
   "cell_type": "code",
   "execution_count": 2,
   "metadata": {},
   "outputs": [
    {
     "name": "stdout",
     "output_type": "stream",
     "text": [
      "Hello!\n",
      "Sam, you purchased 3 item(s):\n",
      "chips\n",
      "chocolate\n",
      "orange juice\n",
      "-----------------------------\n",
      "Hello David!\n",
      "David, you purchased 1 item(s):\n",
      "orange juice\n"
     ]
    }
   ],
   "source": [
    "#Question 2\n",
    "#Author Aditi Saha Ria\n",
    "#ID NO : 20101238\n",
    "\n",
    "class Customer:\n",
    "    def __init__(self, name):\n",
    "        self.name = name\n",
    "    def greet(self, name=None):\n",
    "        if name != None:\n",
    "            print(f'Hello {name}!')\n",
    "        else:\n",
    "            print('Hello!')\n",
    "    def purchase(self, *items):\n",
    "        print(f'{self.name}, you purchased {len(items)} item(s):')\n",
    "        for i in items:\n",
    "            print(i)\n",
    "\n",
    "customer_1 = Customer(\"Sam\")\n",
    "customer_1.greet()\n",
    "customer_1.purchase(\"chips\", \"chocolate\", \"orange juice\")\n",
    "print(\"-----------------------------\")\n",
    "customer_2 = Customer(\"David\")\n",
    "customer_2.greet(\"David\")\n",
    "customer_2.purchase(\"orange juice\")"
   ]
  },
  {
   "cell_type": "code",
   "execution_count": 3,
   "metadata": {},
   "outputs": [
    {
     "name": "stdout",
     "output_type": "stream",
     "text": [
      "Kunfu is a Male Panda Bear who is 5 years old\n",
      "Pan Pan is a Female Panda Bear who is 3 years old\n",
      "Ming Ming is a Female Panda Bear who is 8 years old\n",
      "\n",
      "Pan Pan sleeps 10 hours daily and should have Broccoli Chicken\n",
      "Kunfu sleeps 4 hours daily and should have Mixed Veggies\n",
      "Ming Ming's duration is unknown thus should have only bamboo leaves\n"
     ]
    }
   ],
   "source": [
    "#Question 3\n",
    "#Author Aditi Saha Ria\n",
    "#ID NO : 20101238\n",
    "\n",
    "class Panda:\n",
    "    def __init__(self, name, gender, age):\n",
    "        self.name = name\n",
    "        self.gender = gender\n",
    "        self.age = age\n",
    "    def sleep(self, time=None):\n",
    "        if time != None and time <= 5:\n",
    "            return f'{self.name} sleeps {time} hours daily and should have Mixed Veggies'\n",
    "        elif time != None and time <= 8:\n",
    "            return f'{self.name} sleeps {time} hours daily and should have Eggplant & Tofu'\n",
    "        elif time != None and time <= 11:\n",
    "            return f'{self.name} sleeps {time} hours daily and should have Broccoli Chicken'\n",
    "        elif time == None:\n",
    "            return f\"{self.name}'s duration is unknown thus should have only bamboo leaves\"\n",
    "\n",
    "\n",
    "panda1 = Panda(\"Kunfu\",\"Male\", 5)\n",
    "panda2 = Panda(\"Pan Pan\",\"Female\",3)\n",
    "panda3 = Panda(\"Ming Ming\",\"Female\",8)\n",
    "print(f\"{panda1.name} is a {panda1.gender} Panda Bear who is {panda1.age} years old\")\n",
    "print(f\"{panda2.name} is a {panda2.gender} Panda Bear who is {panda2.age} years old\")\n",
    "print(f\"{panda3.name} is a {panda3.gender} Panda Bear who is {panda3.age} years old\")\n",
    "print()\n",
    "print(panda2.sleep(10))\n",
    "print(panda1.sleep(4))\n",
    "print(panda3.sleep())"
   ]
  },
  {
   "cell_type": "code",
   "execution_count": 4,
   "metadata": {},
   "outputs": [
    {
     "name": "stdout",
     "output_type": "stream",
     "text": [
      "White cat is sitting\n",
      "Black cat is sitting\n",
      "Brown cat is jumping\n",
      "Red cat is purring\n",
      "Blue cat is sitting\n",
      "Purple cat is jumping\n"
     ]
    }
   ],
   "source": [
    "#Question 4\n",
    "#Author Aditi Saha Ria\n",
    "#ID NO : 20101238\n",
    "\n",
    "class Cat:\n",
    "    def __init__(self, color='White', info='sitting'):\n",
    "        self.color = color\n",
    "        self.info = info\n",
    "    def changeColor(self, color):\n",
    "        self.color = color\n",
    "\n",
    "    def printCat(self):\n",
    "        print(f'{self.color} cat is {self.info}')\n",
    "\n",
    "\n",
    "c1 = Cat()\n",
    "c2 = Cat(\"Black\")\n",
    "c3 = Cat(\"Brown\", \"jumping\")\n",
    "c4 = Cat(\"Red\", \"purring\")\n",
    "c1.printCat()\n",
    "c2.printCat()\n",
    "c3.printCat()\n",
    "c4.printCat()\n",
    "c1.changeColor(\"Blue\")\n",
    "c3.changeColor(\"Purple\")\n",
    "c1.printCat()\n",
    "c3.printCat()\n"
   ]
  },
  {
   "cell_type": "code",
   "execution_count": 5,
   "metadata": {},
   "outputs": [
    {
     "name": "stdout",
     "output_type": "stream",
     "text": [
      "(0,0)\n",
      "(0,1)\n",
      "(-1,1)\n",
      "(-1,0)\n"
     ]
    }
   ],
   "source": [
    "#Question 5\n",
    "#Author Aditi Saha Ria\n",
    "#ID NO : 20101238\n",
    "\n",
    "class Vehicle:\n",
    "    def __init__(self, a=0, b=0):\n",
    "        self.x = a\n",
    "        self.y = b\n",
    "    def moveUp(self):\n",
    "        self.y += 1\n",
    "    def moveDown(self):\n",
    "        self.y -= 1\n",
    "    def moveRight(self):\n",
    "        self.x += 1\n",
    "    def moveLeft(self):\n",
    "        self.x -= 1\n",
    "    def print_position(self):\n",
    "        print(f'({self.x},{self.y})')\n",
    "\n",
    "car = Vehicle()\n",
    "car.print_position()\n",
    "car.moveUp()\n",
    "car.print_position()\n",
    "car.moveLeft()\n",
    "car.print_position()\n",
    "car.moveDown()\n",
    "car.print_position()\n",
    "car.moveRight()"
   ]
  }
 ],
 "metadata": {
  "kernelspec": {
   "display_name": "Python 3",
   "language": "python",
   "name": "python3"
  },
  "language_info": {
   "codemirror_mode": {
    "name": "ipython",
    "version": 3
   },
   "file_extension": ".py",
   "mimetype": "text/x-python",
   "name": "python",
   "nbconvert_exporter": "python",
   "pygments_lexer": "ipython3",
   "version": "3.8.3"
  }
 },
 "nbformat": 4,
 "nbformat_minor": 4
}
