{
 "cells": [
  {
   "cell_type": "code",
   "execution_count": 1,
   "metadata": {
    "scrolled": true
   },
   "outputs": [
    {
     "name": "stdout",
     "output_type": "stream",
     "text": [
      "3\n",
      "5\n",
      "6\n",
      "9\n",
      "10\n",
      "12\n",
      "15\n",
      "18\n",
      "20\n",
      "21\n",
      "24\n",
      "25\n",
      "27\n",
      "30\n"
     ]
    }
   ],
   "source": [
    "#Easy Task_01\n",
    "#Author Aditi Saha Ria\n",
    "#Id No : 20101238\n",
    "count = 1 \n",
    "while count < 31:\n",
    "    if count%3==0 or count%5==0:\n",
    "        print(count)\n",
    "    count += 1"
   ]
  },
  {
   "cell_type": "code",
   "execution_count": 3,
   "metadata": {},
   "outputs": [
    {
     "name": "stdout",
     "output_type": "stream",
     "text": [
      "Please enter first number: 2\n",
      "Please enter second number: 3\n",
      "Please enter third number: 3\n",
      "3\n"
     ]
    }
   ],
   "source": [
    "#Easy Task_02\n",
    "#Author Aditi\n",
    "first_number = int(input(\"Please enter first number: \"))\n",
    "second_number = int(input(\"Please enter second number: \"))\n",
    "third_number = int(input(\"Please enter third number: \"))\n",
    "if first_number >= second_number and first_number >= third_number:\n",
    "    print(first_number)\n",
    "elif second_number >= first_number and second_number >= third_number:\n",
    "    print(second_number)\n",
    "else:\n",
    "    print(third_number)"
   ]
  },
  {
   "cell_type": "code",
   "execution_count": 2,
   "metadata": {},
   "outputs": [
    {
     "name": "stdout",
     "output_type": "stream",
     "text": [
      "Please enter your mark: 8\n",
      "F\n"
     ]
    }
   ],
   "source": [
    "#Easy Task_03\n",
    "#Author Aditi\n",
    "mark = int(input(\"Please enter your mark: \"))\n",
    "grade = \" \"\n",
    "if mark >= 90:\n",
    "    grade = \"A\"\n",
    "elif mark >= 85:\n",
    "    grade = \"A-\"\n",
    "elif mark >= 80:\n",
    "    grade = \"B+\"\n",
    "elif mark >= 75:\n",
    "    grade = \"B\"\n",
    "elif mark >= 70:\n",
    "    grade = \"B-\"\n",
    "elif mark >= 65:\n",
    "    grade = \"C+\"\n",
    "elif mark >= 60:\n",
    "    grade = \"C\"\n",
    "elif mark >= 57:\n",
    "    grade = \"C-\"\n",
    "elif mark >= 55:\n",
    "    grade = \"D+\"\n",
    "elif mark >= 52:\n",
    "    grade = \"D\"\n",
    "elif mark >= 50:\n",
    "    grade = \"D-\"\n",
    "else:\n",
    "    grade = \"F\"\n",
    "print(grade)"
   ]
  },
  {
   "cell_type": "code",
   "execution_count": 3,
   "metadata": {},
   "outputs": [
    {
     "name": "stdout",
     "output_type": "stream",
     "text": [
      "Please enter a number: 78\n",
      "78 is not a prime number\n"
     ]
    }
   ],
   "source": [
    "#Easy Task_04\n",
    "#Author Aditi\n",
    "#Prime Number\n",
    "number = int(input(\"Please enter a number: \"))\n",
    "divisible = 0\n",
    "count = 1\n",
    "for i in range(number):\n",
    "    if number%(i+1)==0:\n",
    "        divisible += 1\n",
    "if divisible == 2:\n",
    "    print(f\"{number} is a primer number\")\n",
    "else:\n",
    "    print(f\"{number} is not a prime number\")"
   ]
  },
  {
   "cell_type": "code",
   "execution_count": 39,
   "metadata": {},
   "outputs": [
    {
     "name": "stdout",
     "output_type": "stream",
     "text": [
      "Please enter a number: 7\n",
      "7 is a primer number\n"
     ]
    }
   ],
   "source": [
    "#Easy Task_04(Shortcut)\n",
    "#Author Aditi\n",
    "#Prime Number\n",
    "number = int(input(\"Please enter a number: \"))\n",
    "divisible = 0\n",
    "count = 1\n",
    "new_number = int(number ** 0.5 + 1)\n",
    "for i in range(new_number):\n",
    "    if number%(i+1)==0:\n",
    "        divisible += 1\n",
    "if divisible == 1:\n",
    "    print(f\"{number} is a primer number\")\n",
    "else:\n",
    "    print(f\"{number} is not a prime number\")"
   ]
  },
  {
   "cell_type": "code",
   "execution_count": 23,
   "metadata": {},
   "outputs": [
    {
     "name": "stdout",
     "output_type": "stream",
     "text": [
      "Please enter a fibonacci number: 10\n",
      "0 1 1 2 3 5 8 "
     ]
    }
   ],
   "source": [
    "#Medium Task_01\n",
    "#Author Aditi\n",
    "#Fibonacci Number\n",
    "fibonacci_number = int(input('Please enter a fibonacci number: '))\n",
    "first_number = 0\n",
    "second_number = 1\n",
    "sum = 0\n",
    "if fibonacci_number == 0:\n",
    "    print(0)\n",
    "else:\n",
    "    print('0 1', end=' ')\n",
    "    while True:\n",
    "        sum = first_number + second_number\n",
    "        if sum > fibonacci_number:\n",
    "            break\n",
    "        print(sum, end=' ')\n",
    "        first_number = second_number\n",
    "        second_number = sum"
   ]
  },
  {
   "cell_type": "code",
   "execution_count": 21,
   "metadata": {},
   "outputs": [
    {
     "name": "stdout",
     "output_type": "stream",
     "text": [
      "Please enter a number: 4\n",
      "4"
     ]
    }
   ],
   "source": [
    "#Medium Task_02\n",
    "#Author Aditi\n",
    "#Reverse Number\n",
    "number = int(input('Please enter a number: '))\n",
    "temp = number\n",
    "while number != 0:\n",
    "    temp = number % 10\n",
    "    print(temp,end=\"\")\n",
    "    number = int(number / 10)"
   ]
  },
  {
   "cell_type": "code",
   "execution_count": 3,
   "metadata": {},
   "outputs": [
    {
     "name": "stdout",
     "output_type": "stream",
     "text": [
      "Please enter a number: 6\n",
      "Not Perfect\n"
     ]
    }
   ],
   "source": [
    "#Medium Task_03\n",
    "#Author Aditi\n",
    "#Prime Number\n",
    "number = int(input('Please enter a number: '))\n",
    "sum = 0\n",
    "for i in range(number-1):\n",
    "    if number % (i+1) == 0:\n",
    "        sum = sum + i + 1\n",
    "if sum == number:\n",
    "    print('Perfect Number')\n",
    "else:\n",
    "    print('Not Perfect')"
   ]
  },
  {
   "cell_type": "code",
   "execution_count": 2,
   "metadata": {},
   "outputs": [
    {
     "name": "stdout",
     "output_type": "stream",
     "text": [
      "Please enter a number: 6\n",
      "1\n"
     ]
    }
   ],
   "source": [
    "#Hard Task_01\n",
    "#Author Aditi\n",
    "#Counting Unique Number\n",
    "number = input('Please enter a number: ')\n",
    "count = 0\n",
    "for i in range(10):\n",
    "    if str(i) in number:\n",
    "        count += 1\n",
    "print(count)"
   ]
  },
  {
   "cell_type": "code",
   "execution_count": 1,
   "metadata": {},
   "outputs": [
    {
     "name": "stdout",
     "output_type": "stream",
     "text": [
      "Please enter a number: 7\n",
      "      *\n",
      "     * *\n",
      "    *   *\n",
      "   *     *\n",
      "  *       *\n",
      " *         *\n",
      "*************\n",
      " *         *\n",
      "  *       *\n",
      "   *     *\n",
      "    *   *\n",
      "     * *\n",
      "      *\n",
      "       \n"
     ]
    }
   ],
   "source": [
    "#Hard Task_02\n",
    "#Author Aditi\n",
    "number = int(input('Please enter a number: '))\n",
    "for i in range(number):\n",
    "    for j in range(number-1-i):\n",
    "        print(' ',end=\"\")\n",
    "    for j in range((2*i+1)):\n",
    "        if j==0 or j==2*i or i==number-1:\n",
    "            print('*',end=\"\")\n",
    "        else:\n",
    "            print(' ',end=\"\")\n",
    "    print()\n",
    "for i in range(number):\n",
    "    for j in range(i+1):\n",
    "        print(' ', end='')\n",
    "    for j in range(2*(number-i)-3):\n",
    "        if j==0 or j==2*(number-i)-4:\n",
    "            print('*',end='')\n",
    "        else:\n",
    "            print(' ',end='')\n",
    "    print()"
   ]
  },
  {
   "cell_type": "code",
   "execution_count": 6,
   "metadata": {},
   "outputs": [
    {
     "name": "stdout",
     "output_type": "stream",
     "text": [
      "Please enter a number: 56\n",
      "7\n"
     ]
    }
   ],
   "source": [
    "#Hard Task_03\n",
    "#Author Aditi\n",
    "decimal_number = int(input('Please enter a number: '))\n",
    "temp = decimal_number\n",
    "count = 0\n",
    "binary_number = 0\n",
    "while decimal_number != 0:\n",
    "    temp = decimal_number % 2\n",
    "    if temp == 1:\n",
    "        count += 1\n",
    "    decimal_number = int(decimal_number / 2)\n",
    "number = 0\n",
    "second_count = 1\n",
    "for i in range(count):\n",
    "    number = number + second_count\n",
    "    second_count *= 2\n",
    "print(number)"
   ]
  }
 ],
 "metadata": {
  "kernelspec": {
   "display_name": "Python 3",
   "language": "python",
   "name": "python3"
  },
  "language_info": {
   "codemirror_mode": {
    "name": "ipython",
    "version": 3
   },
   "file_extension": ".py",
   "mimetype": "text/x-python",
   "name": "python",
   "nbconvert_exporter": "python",
   "pygments_lexer": "ipython3",
   "version": "3.8.3"
  }
 },
 "nbformat": 4,
 "nbformat_minor": 4
}
