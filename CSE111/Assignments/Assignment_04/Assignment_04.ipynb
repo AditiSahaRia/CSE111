{
 "cells": [
  {
   "cell_type": "code",
   "execution_count": 1,
   "metadata": {
    "colab": {},
    "colab_type": "code",
    "id": "PY6uJAuwTs_-"
   },
   "outputs": [
    {
     "name": "stdout",
     "output_type": "stream",
     "text": [
      "Please enter a number: 1\n",
      "Please enter a number: 4\n",
      "Please enter a number: 2\n",
      "Please enter a number: 3\n",
      "Please enter a number: 2\n",
      "Please enter a number: 1\n",
      "Please enter a number: 6\n",
      "Please enter a number: 7\n",
      "Please enter a number: 8\n",
      "Please enter a number: 9\n",
      "9, 8, 7, 6, 1, 2, 3, 2, 4, 1."
     ]
    }
   ],
   "source": [
    "#Easy Task_01\n",
    "#Author Aditi Saha Ria\n",
    "#ID NO: 20101238\n",
    "\n",
    "numbers_list = []\n",
    "for i in range(10):\n",
    "  number = input('Please enter a number: ')\n",
    "  numbers_list.append(number)\n",
    "for i in range(len(numbers_list)-1,0,-1):\n",
    "  print(numbers_list[i], end=', ')\n",
    "print(numbers_list[0],end='.')"
   ]
  },
  {
   "cell_type": "code",
   "execution_count": 2,
   "metadata": {
    "colab": {},
    "colab_type": "code",
    "id": "WTl0Rv1jTtAB"
   },
   "outputs": [
    {
     "name": "stdout",
     "output_type": "stream",
     "text": [
      "1,3,5,7,9,10\n",
      "2,4,6,8\n",
      "[1, 3, 5, 7, 9, 2, 4, 6, 8]\n"
     ]
    }
   ],
   "source": [
    "#Easy Task_02\n",
    "#Author Aditi Saha Ria\n",
    "#ID NO: 20101238\n",
    "\n",
    "first_list = input()\n",
    "second_list = input()\n",
    "\n",
    "first_list = first_list.split(',')\n",
    "second_list = second_list.split(',')\n",
    "\n",
    "for i in range(len(first_list)):\n",
    "  first_list[i] = int(first_list[i])\n",
    "\n",
    "for i in range(len(second_list)):\n",
    "  second_list[i] = int(second_list[i])\n",
    "\n",
    "first_list[-1] = second_list[0]\n",
    "for i in second_list[1:]:\n",
    "  first_list.append(i)\n",
    "\n",
    "print(first_list)"
   ]
  },
  {
   "cell_type": "code",
   "execution_count": null,
   "metadata": {
    "colab": {},
    "colab_type": "code",
    "id": "wUN-K6AnTtAE"
   },
   "outputs": [],
   "source": [
    "#Easy Task_03\n",
    "#Author Aditi Saha Ria\n",
    "#ID NO: 20101238\n",
    "\n",
    "numbers_list = []\n",
    "number = input('Please enter a number: ')\n",
    "numbers_list.append(number)\n",
    "\n",
    "for i in range(9):\n",
    "  number = input('Please enter a number: ')\n",
    "  while number in numbers_list:\n",
    "    number = input('Please enter another number: ')\n",
    "    if number not in numbers_list:\n",
    "      numbers_list.append(number)\n",
    "      break\n",
    "\n",
    "  else:\n",
    "    numbers_list.append(number)\n",
    "for i in range(len(numbers_list)):\n",
    "  if i==len(numbers_list)-1:\n",
    "    print(numbers_list[i], end='.')\n",
    "  else:\n",
    "    print(numbers_list[i], end=', ')"
   ]
  },
  {
   "cell_type": "code",
   "execution_count": 1,
   "metadata": {
    "colab": {
     "base_uri": "https://localhost:8080/",
     "height": 296
    },
    "colab_type": "code",
    "executionInfo": {
     "elapsed": 33268,
     "status": "error",
     "timestamp": 1596005051333,
     "user": {
      "displayName": "Aditi Saha",
      "photoUrl": "https://lh3.googleusercontent.com/a-/AOh14Gj4ZDreLRjf_RUppSL9gVUuEBZNWSkfPFUj1c5VhoI=s64",
      "userId": "12244808071913445795"
     },
     "user_tz": -360
    },
    "id": "--cno9G6TtAG",
    "outputId": "a68b23b1-2f94-4b1b-f380-2e94c7a6c6b9"
   },
   "outputs": [
    {
     "name": "stdout",
     "output_type": "stream",
     "text": [
      "Please enter a number: 10\n",
      "please enter a number: 20\n",
      "please enter a number: 10\n",
      "please enter a number: STOP\n"
     ]
    },
    {
     "ename": "IndexError",
     "evalue": "ignored",
     "output_type": "error",
     "traceback": [
      "\u001b[0;31m---------------------------------------------------------------------------\u001b[0m",
      "\u001b[0;31mIndexError\u001b[0m                                Traceback (most recent call last)",
      "\u001b[0;32m<ipython-input-1-45eeea3782e5>\u001b[0m in \u001b[0;36m<module>\u001b[0;34m()\u001b[0m\n\u001b[1;32m     20\u001b[0m     \u001b[0mj\u001b[0m \u001b[0;34m=\u001b[0m \u001b[0mindex_value\u001b[0m\u001b[0;34m+\u001b[0m\u001b[0;36m1\u001b[0m\u001b[0;34m\u001b[0m\u001b[0;34m\u001b[0m\u001b[0m\n\u001b[1;32m     21\u001b[0m     \u001b[0;32mwhile\u001b[0m \u001b[0mj\u001b[0m \u001b[0;34m<\u001b[0m \u001b[0mlist_length\u001b[0m\u001b[0;34m:\u001b[0m\u001b[0;34m\u001b[0m\u001b[0;34m\u001b[0m\u001b[0m\n\u001b[0;32m---> 22\u001b[0;31m       \u001b[0;32mif\u001b[0m \u001b[0mnumbers_list\u001b[0m\u001b[0;34m[\u001b[0m\u001b[0mj\u001b[0m\u001b[0;34m]\u001b[0m\u001b[0;34m==\u001b[0m\u001b[0mnumbers_list\u001b[0m\u001b[0;34m[\u001b[0m\u001b[0mindex_value\u001b[0m\u001b[0;34m]\u001b[0m\u001b[0;34m:\u001b[0m\u001b[0;34m\u001b[0m\u001b[0;34m\u001b[0m\u001b[0m\n\u001b[0m\u001b[1;32m     23\u001b[0m         \u001b[0mcount\u001b[0m \u001b[0;34m+=\u001b[0m \u001b[0;36m1\u001b[0m\u001b[0;34m\u001b[0m\u001b[0;34m\u001b[0m\u001b[0m\n\u001b[1;32m     24\u001b[0m         \u001b[0mnumbers_list\u001b[0m\u001b[0;34m.\u001b[0m\u001b[0mremove\u001b[0m\u001b[0;34m(\u001b[0m\u001b[0mnumbers_list\u001b[0m\u001b[0;34m[\u001b[0m\u001b[0mj\u001b[0m\u001b[0;34m]\u001b[0m\u001b[0;34m)\u001b[0m\u001b[0;34m\u001b[0m\u001b[0;34m\u001b[0m\u001b[0m\n",
      "\u001b[0;31mIndexError\u001b[0m: list index out of range"
     ]
    }
   ],
   "source": [
    "#Medium Task_01\n",
    "#Author Aditi Saha Ria\n",
    "#ID NO: 20101238\n",
    "\n",
    "numbers_list = []\n",
    "number = input('Please enter a number: ')\n",
    "while number != 'STOP':\n",
    "  numbers_list.append(int(number))\n",
    "  number = input('please enter a number: ')\n",
    "\n",
    "numbers_list.sort()\n",
    "\n",
    "#print(numbers_list)\n",
    "\n",
    "list_length = len(numbers_list)\n",
    "index_value = 0\n",
    "while index_value < list_length:\n",
    "  count = 1\n",
    "  if index_value < list_length-2:\n",
    "    j = index_value+1\n",
    "    while j < list_length:\n",
    "      if numbers_list[j]==numbers_list[index_value]:\n",
    "        count += 1\n",
    "        numbers_list.remove(numbers_list[j])\n",
    "        if j < list_length-1:\n",
    "          j += 1\n",
    "      else:\n",
    "        break\n",
    "  print(f'{numbers_list[index_value]} - {count} times')\n",
    "  index_value += 1"
   ]
  },
  {
   "cell_type": "code",
   "execution_count": null,
   "metadata": {
    "colab": {},
    "colab_type": "code",
    "id": "-KJDDtlYTtAI"
   },
   "outputs": [],
   "source": [
    "#Medium Task_02\n",
    "#Author Aditi Saha Ria\n",
    "#ID NO: 20101238\n",
    "\n",
    "numbers_list = input()\n",
    "max = 0\n",
    "max_list = []\n",
    "while numbers_list != '':\n",
    "  sum = 0\n",
    "  new_list = numbers_list.split(' ')\n",
    "\n",
    "  for i in range(len(new_list)):\n",
    "    new_list[i] = int(new_list[i])\n",
    "\n",
    "  temp = new_list\n",
    "  for i in temp:\n",
    "    sum += int(i)\n",
    "  if sum > max:\n",
    "    max = sum\n",
    "    max_list = new_list\n",
    "  numbers_list = input()\n",
    "\n",
    "print(max)\n",
    "print(max_list)"
   ]
  },
  {
   "cell_type": "code",
   "execution_count": null,
   "metadata": {
    "colab": {},
    "colab_type": "code",
    "id": "5qviK-GWTtAL",
    "outputId": "73c9c6d5-1857-4246-e601-fd80f4adf013"
   },
   "outputs": [
    {
     "name": "stdout",
     "output_type": "stream",
     "text": [
      "2 3 6\n",
      "3 4 5\n",
      "[6, 8, 10, 9, 12, 15, 18, 24, 30]\n"
     ]
    }
   ],
   "source": [
    "#Medium Task_03\n",
    "#Author Aditi Saha Ria\n",
    "#ID NO: 20101238\n",
    "\n",
    "first_list = input()\n",
    "second_list = input()\n",
    "first_list = first_list.split(' ')\n",
    "second_list = second_list.split(' ')\n",
    "\n",
    "for i in range(len(first_list)):\n",
    "  first_list[i] = int(first_list[i])\n",
    "\n",
    "for i in range(len(second_list)):\n",
    "  second_list[i] = int(second_list[i])\n",
    "\n",
    "cross_multiplication_list = []\n",
    "\n",
    "for i in first_list:\n",
    "  for j in second_list:\n",
    "    cross_multiplication_list.append(i*j)\n",
    "\n",
    "print(cross_multiplication_list)"
   ]
  },
  {
   "cell_type": "code",
   "execution_count": null,
   "metadata": {
    "colab": {},
    "colab_type": "code",
    "id": "bRyn1R_GTtAQ"
   },
   "outputs": [],
   "source": [
    "#Medium Task_04\n",
    "#Author Aditi Saha Ria\n",
    "#ID NO: 20101238\n",
    "\n",
    "step_value = int(input())\n",
    "numbers_list = input()\n",
    "numbers_list = numbers_list.split(',')\n",
    "\n",
    "start_value = 0\n",
    "new_list = []\n",
    "\n",
    "while start_value < step_value:\n",
    "  sub_list = []\n",
    "  for i in numbers_list[start_value::step_value]:\n",
    "    sub_list.append(i)\n",
    "  new_list.append(sub_list)\n",
    "  start_value += 1\n",
    "\n",
    "print(new_list)"
   ]
  },
  {
   "cell_type": "code",
   "execution_count": null,
   "metadata": {
    "colab": {},
    "colab_type": "code",
    "id": "pg15n0ysTtAT"
   },
   "outputs": [],
   "source": [
    "#Hard Task_01\n",
    "#Author Aditi Saha Ria\n",
    "#ID NO: 20101238\n",
    "\n",
    "numbers_list = input() \n",
    "\n",
    "while numbers_list != 'STOP':\n",
    "  numbers_list = numbers_list.split(' ')\n",
    "  count = 0\n",
    "  j = 0\n",
    "  #another_diff = 0\n",
    "  dfrnc_list = []\n",
    "  for i in range(1,len(numbers_list)):\n",
    "    difference = int(numbers_list[j])-int(numbers_list[i])\n",
    "    difference = abs(difference)\n",
    "    dfrnc_list.append(difference)\n",
    "\n",
    "    if difference >= len(numbers_list):\n",
    "      count += 1\n",
    "    j = i\n",
    "  \n",
    "  k = 0\n",
    "  dfrnc_list.sort()\n",
    "  dfrnc = 0\n",
    "\n",
    "  for i in range(1,len(dfrnc_list)):\n",
    "    dfrnc = dfrnc_list[i]-dfrnc_list[k]\n",
    "    if dfrnc != 1:\n",
    "      count += 1\n",
    "    k = i\n",
    "\n",
    "  if count == 0:\n",
    "    print('UB Jumper')\n",
    "  else:\n",
    "    print('Not UB Jumper')\n",
    "  numbers_list = input()    "
   ]
  },
  {
   "cell_type": "code",
   "execution_count": null,
   "metadata": {
    "colab": {},
    "colab_type": "code",
    "id": "W6iL_ZrlTtAV",
    "outputId": "140fb9cd-93e8-4263-9fec-4ae334812916"
   },
   "outputs": [
    {
     "name": "stdout",
     "output_type": "stream",
     "text": [
      "Please enter a string: BracuRRs09248//\n",
      "acrsuBRR90248//\n"
     ]
    }
   ],
   "source": [
    "#Hard Task_02\n",
    "#Author Aditi Saha Ria\n",
    "#ID NO: 20101238\n",
    "\n",
    "string = input('Please enter a string: ')\n",
    "\n",
    "lower_case = ''\n",
    "upper_case = ''\n",
    "odd_digits_list = []\n",
    "even_digits_list = []\n",
    "numbers_list = []\n",
    "characters = ''\n",
    "\n",
    "for i in string:\n",
    "  if i>='a' and i<='z':\n",
    "    lower_case += i\n",
    "  elif i>='A' and i<='Z':\n",
    "    upper_case += i\n",
    "  elif i>='0' and i<='9':\n",
    "    i = int(i)\n",
    "    numbers_list.append(i)\n",
    "  else:\n",
    "    characters += i\n",
    "\n",
    "for i in numbers_list:\n",
    "  if i%2:\n",
    "    odd_digits_list.append(i)\n",
    "  else:\n",
    "    even_digits_list.append(i)\n",
    "\n",
    "lower_case = sorted(lower_case)\n",
    "upper_case = sorted(upper_case)\n",
    "odd_digits_list.sort()\n",
    "even_digits_list.sort()\n",
    "\n",
    "lower_string = ''\n",
    "upper_string = ''\n",
    "odd_string = ''\n",
    "even_string = ''\n",
    "\n",
    "for i in lower_case:\n",
    "  lower_string += i\n",
    "for i in upper_case:\n",
    "  upper_string += i\n",
    "for i in odd_digits_list:\n",
    "  odd_string += str(i)\n",
    "for i in even_digits_list:\n",
    "  even_string += str(i)\n",
    "\n",
    "print(lower_string+upper_string+odd_string+even_string+characters)"
   ]
  },
  {
   "cell_type": "code",
   "execution_count": null,
   "metadata": {
    "colab": {},
    "colab_type": "code",
    "id": "zZHmH7PRTtAX",
    "outputId": "5562c266-1797-4679-9062-6ea8163bfbb9"
   },
   "outputs": [
    {
     "name": "stdout",
     "output_type": "stream",
     "text": [
      "6 1\n",
      "1 2 3 2 1 4\n",
      "2\n"
     ]
    }
   ],
   "source": [
    "#Hard Task_03\n",
    "#Author Aditi Saha Ria\n",
    "#ID NO: 20101238\n",
    "\n",
    "first_line = input()\n",
    "first_line = first_line.split(' ')\n",
    "n = int(first_line[0])\n",
    "k = int(first_line[1])\n",
    "\n",
    "second_line = input()\n",
    "second_line = second_line.split(' ')\n",
    "\n",
    "participants = []\n",
    "\n",
    "for i in second_line:\n",
    "  if int(i)+k <= 5:\n",
    "    i = int(i)\n",
    "    participants.append(i)\n",
    "\n",
    "team_number = len(participants)//3\n",
    "print(team_number)"
   ]
  }
 ],
 "metadata": {
  "colab": {
   "name": "Assignment_04.ipynb",
   "provenance": []
  },
  "kernelspec": {
   "display_name": "Python 3",
   "language": "python",
   "name": "python3"
  },
  "language_info": {
   "codemirror_mode": {
    "name": "ipython",
    "version": 3
   },
   "file_extension": ".py",
   "mimetype": "text/x-python",
   "name": "python",
   "nbconvert_exporter": "python",
   "pygments_lexer": "ipython3",
   "version": "3.8.3"
  }
 },
 "nbformat": 4,
 "nbformat_minor": 1
}
