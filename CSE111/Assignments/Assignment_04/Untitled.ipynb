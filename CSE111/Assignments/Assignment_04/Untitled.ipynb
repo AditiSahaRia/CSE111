{
 "cells": [
  {
   "cell_type": "code",
   "execution_count": null,
   "metadata": {},
   "outputs": [],
   "source": [
    "#Medium Task_01\n",
    "#Author Aditi Saha Ria\n",
    "#ID NO: 20101238\n",
    "\n",
    "numbers_list = []\n",
    "number = input('Please enter a number: ')\n",
    "while number != 'STOP':\n",
    "  numbers_list.append(int(number))\n",
    "  number = input('please enter a number: ')\n",
    "\n",
    "numbers_list.sort()\n",
    "\n",
    "#print(numbers_list)\n",
    "\n",
    "list_length = len(numbers_list)\n",
    "index_value = 0\n",
    "while index_value < list_length:\n",
    "  count = 1\n",
    "  if index_value < list_length-2:\n",
    "    j = index_value+1\n",
    "  while j < list_length:\n",
    "    if numbers_list[j]==numbers_list[index_value]:\n",
    "      count += 1\n",
    "      numbers_list.remove(numbers_list[j])\n",
    "      if j < list_length-1:\n",
    "        j += 1\n",
    "    else:\n",
    "      break\n",
    "  print(f'{numbers_list[index_value]} - {count} times')\n",
    "  index_value += 1"
   ]
  },
  {
   "cell_type": "code",
   "execution_count": 1,
   "metadata": {},
   "outputs": [
    {
     "name": "stdout",
     "output_type": "stream",
     "text": [
      "Please enter a number: 10\n",
      "please enter a number: 10\n",
      "please enter a number: 19\n",
      "please enter a number: STOP\n",
      "10 - 2 times\n",
      "10 - 1 times\n"
     ]
    }
   ],
   "source": [
    "\n",
    "#Medium Task_01\n",
    "#Author Aditi Saha Ria\n",
    "#ID NO: 20101238\n",
    "numbers_list = []\n",
    "number = input('Please enter a number: ')\n",
    "while number != 'STOP':\n",
    "  numbers_list.append(number)\n",
    "  if number == 'STOP':\n",
    "    break\n",
    "  else:\n",
    "    number = input('please enter a number: ')\n",
    "#numbers_list.sort()\n",
    "count = 1\n",
    "for i in range(len(numbers_list)):\n",
    "  count = 1\n",
    "  if i == len(numbers_list)-1:\n",
    "    break\n",
    "  else:\n",
    "    j = i+1\n",
    "  while j < len(numbers_list):\n",
    "    if numbers_list[j] == numbers_list[i]:\n",
    "      count += 1\n",
    "    j += 1\n",
    "  print(f'{numbers_list[i]} - {count} times')\n",
    "  i = i+count"
   ]
  },
  {
   "cell_type": "code",
   "execution_count": null,
   "metadata": {},
   "outputs": [],
   "source": []
  }
 ],
 "metadata": {
  "kernelspec": {
   "display_name": "Python 3",
   "language": "python",
   "name": "python3"
  },
  "language_info": {
   "codemirror_mode": {
    "name": "ipython",
    "version": 3
   },
   "file_extension": ".py",
   "mimetype": "text/x-python",
   "name": "python",
   "nbconvert_exporter": "python",
   "pygments_lexer": "ipython3",
   "version": "3.8.3"
  }
 },
 "nbformat": 4,
 "nbformat_minor": 4
}
